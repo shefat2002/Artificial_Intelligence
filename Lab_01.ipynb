{
  "nbformat": 4,
  "nbformat_minor": 0,
  "metadata": {
    "colab": {
      "provenance": [],
      "authorship_tag": "ABX9TyOLOg6Tk9vjYFyopPKi4Pys",
      "include_colab_link": true
    },
    "kernelspec": {
      "name": "python3",
      "display_name": "Python 3"
    },
    "language_info": {
      "name": "python"
    }
  },
  "cells": [
    {
      "cell_type": "markdown",
      "metadata": {
        "id": "view-in-github",
        "colab_type": "text"
      },
      "source": [
        "<a href=\"https://colab.research.google.com/github/shefat2002/Artificial_Intelligence/blob/main/Lab_01.ipynb\" target=\"_parent\"><img src=\"https://colab.research.google.com/assets/colab-badge.svg\" alt=\"Open In Colab\"/></a>"
      ]
    },
    {
      "cell_type": "code",
      "execution_count": 2,
      "metadata": {
        "colab": {
          "base_uri": "https://localhost:8080/"
        },
        "id": "IDpT6KzpjRZN",
        "outputId": "3e241dca-3228-4397-98a6-e95e4540aa36"
      },
      "outputs": [
        {
          "output_type": "stream",
          "name": "stdout",
          "text": [
            "655\n"
          ]
        }
      ],
      "source": [
        "\n",
        "def palindrome(lst):\n",
        "  cnt =0\n",
        "  for i in range(10000,1000000):\n",
        "    if lst[i]==1:\n",
        "      s = str(i)\n",
        "      if s== s[::-1]:\n",
        "        #print(s)\n",
        "        cnt+=1\n",
        "  return cnt\n",
        "a = [0]*1000000\n",
        "for i in range(100,1000):\n",
        "  for j in range(i,1000):\n",
        "    a[i*j]=1\n",
        "print(palindrome((a)))\n"
      ]
    },
    {
      "cell_type": "markdown",
      "source": [
        "**To  Learn**\n",
        "\n",
        "Numpy, Pandas, scikit-learn, TensorFlow, Kernas, PyTorch"
      ],
      "metadata": {
        "id": "U2Via5gn4OTV"
      }
    },
    {
      "cell_type": "code",
      "source": [],
      "metadata": {
        "id": "S2FOijk-47rh"
      },
      "execution_count": null,
      "outputs": []
    }
  ]
}
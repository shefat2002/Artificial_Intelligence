{
  "nbformat": 4,
  "nbformat_minor": 0,
  "metadata": {
    "colab": {
      "provenance": [],
      "authorship_tag": "ABX9TyMglVjn6pDRkaSaid9mmXSu",
      "include_colab_link": true
    },
    "kernelspec": {
      "name": "python3",
      "display_name": "Python 3"
    },
    "language_info": {
      "name": "python"
    }
  },
  "cells": [
    {
      "cell_type": "markdown",
      "metadata": {
        "id": "view-in-github",
        "colab_type": "text"
      },
      "source": [
        "<a href=\"https://colab.research.google.com/github/shefat2002/Artificial_Intelligence/blob/main/Lab_01.ipynb\" target=\"_parent\"><img src=\"https://colab.research.google.com/assets/colab-badge.svg\" alt=\"Open In Colab\"/></a>"
      ]
    },
    {
      "cell_type": "code",
      "execution_count": 56,
      "metadata": {
        "colab": {
          "base_uri": "https://localhost:8080/"
        },
        "id": "IDpT6KzpjRZN",
        "outputId": "98648a4f-d953-4340-ef18-9dbac0872c38"
      },
      "outputs": [
        {
          "output_type": "stream",
          "name": "stdout",
          "text": [
            "655\n"
          ]
        }
      ],
      "source": [
        "\n",
        "def palindrome(st):\n",
        "  cnt =0\n",
        "  for i in st:\n",
        "    i = str(i)\n",
        "    if(i== i[::-1]): cnt+=1\n",
        "  return cnt\n",
        "l =[]\n",
        "for i in range(100,1000):\n",
        "  for j in range(i,1000):\n",
        "    l.append(i*j)\n",
        "print(palindrome(set(l)))\n"
      ]
    },
    {
      "cell_type": "code",
      "source": [
        "def ispal(s):\n",
        "  if(s== s[::-1]): return 1\n",
        "  else : return 0\n",
        "cnt =0\n",
        "for i in range(1,11):\n",
        "  for j in range(i,11):\n",
        "    if(ispal(str(i*j)) == 1): cnt+=1\n",
        "    print(i*j)\n",
        "print(cnt)"
      ],
      "metadata": {
        "id": "AjNFaiu7o1d-",
        "colab": {
          "base_uri": "https://localhost:8080/"
        },
        "outputId": "fc2459ac-5bdd-4414-ba02-7a32ee648b4a"
      },
      "execution_count": 41,
      "outputs": [
        {
          "output_type": "stream",
          "name": "stdout",
          "text": [
            "1\n",
            "2\n",
            "3\n",
            "4\n",
            "5\n",
            "6\n",
            "7\n",
            "8\n",
            "9\n",
            "10\n",
            "4\n",
            "6\n",
            "8\n",
            "10\n",
            "12\n",
            "14\n",
            "16\n",
            "18\n",
            "20\n",
            "9\n",
            "12\n",
            "15\n",
            "18\n",
            "21\n",
            "24\n",
            "27\n",
            "30\n",
            "16\n",
            "20\n",
            "24\n",
            "28\n",
            "32\n",
            "36\n",
            "40\n",
            "25\n",
            "30\n",
            "35\n",
            "40\n",
            "45\n",
            "50\n",
            "36\n",
            "42\n",
            "48\n",
            "54\n",
            "60\n",
            "49\n",
            "56\n",
            "63\n",
            "70\n",
            "64\n",
            "72\n",
            "80\n",
            "81\n",
            "90\n",
            "100\n",
            "13\n"
          ]
        }
      ]
    }
  ]
}